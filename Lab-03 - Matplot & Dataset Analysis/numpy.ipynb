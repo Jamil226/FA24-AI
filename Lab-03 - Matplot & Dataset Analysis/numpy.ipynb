{
  "nbformat": 4,
  "nbformat_minor": 0,
  "metadata": {
    "colab": {
      "provenance": []
    },
    "kernelspec": {
      "name": "python3",
      "display_name": "Python 3"
    },
    "language_info": {
      "name": "python"
    }
  },
  "cells": [
    {
      "cell_type": "markdown",
      "source": [
        "#**Numpy Array**"
      ],
      "metadata": {
        "id": "wSW12q21JT9O"
      }
    },
    {
      "cell_type": "code",
      "execution_count": 2,
      "metadata": {
        "colab": {
          "base_uri": "https://localhost:8080/"
        },
        "id": "gEhGuioZEIuh",
        "outputId": "f296dd50-b00e-4bf8-92e6-80151f436969"
      },
      "outputs": [
        {
          "output_type": "stream",
          "name": "stdout",
          "text": [
            "Requirement already satisfied: numpy in /usr/local/lib/python3.10/dist-packages (1.26.4)\n"
          ]
        }
      ],
      "source": [
        "!pip install numpy"
      ]
    },
    {
      "cell_type": "code",
      "source": [
        "import numpy as np"
      ],
      "metadata": {
        "id": "VM2up9pXEM_T"
      },
      "execution_count": 3,
      "outputs": []
    },
    {
      "cell_type": "code",
      "source": [
        "x = np.array([1,2,3,4])\n",
        "print(x)\n"
      ],
      "metadata": {
        "colab": {
          "base_uri": "https://localhost:8080/"
        },
        "id": "3G8BMj-vERBj",
        "outputId": "96b0a472-7214-4a09-8799-14b64e043dcc"
      },
      "execution_count": 6,
      "outputs": [
        {
          "output_type": "stream",
          "name": "stdout",
          "text": [
            "[1 2 3 4]\n",
            "<class 'numpy.ndarray'>\n"
          ]
        }
      ]
    },
    {
      "cell_type": "code",
      "source": [
        "myList = [1,2,3,4]\n",
        "print(myList)\n"
      ],
      "metadata": {
        "colab": {
          "base_uri": "https://localhost:8080/"
        },
        "id": "6W5D-VsTJoM0",
        "outputId": "faf5b0c5-3c35-4353-87ca-59c6d86ded8c"
      },
      "execution_count": 7,
      "outputs": [
        {
          "output_type": "stream",
          "name": "stdout",
          "text": [
            "[1, 2, 3, 4]\n",
            "<class 'list'>\n"
          ]
        }
      ]
    },
    {
      "cell_type": "code",
      "source": [
        "print(type(x))\n"
      ],
      "metadata": {
        "colab": {
          "base_uri": "https://localhost:8080/"
        },
        "id": "IgUi5CxBEo_b",
        "outputId": "f5673bf2-fea1-4640-b283-60694d034d49"
      },
      "execution_count": 10,
      "outputs": [
        {
          "output_type": "stream",
          "name": "stdout",
          "text": [
            "<class 'numpy.ndarray'>\n"
          ]
        }
      ]
    },
    {
      "cell_type": "code",
      "source": [
        "print(type(myList))"
      ],
      "metadata": {
        "colab": {
          "base_uri": "https://localhost:8080/"
        },
        "id": "U7ycvcCJJj4l",
        "outputId": "026d6897-c6ca-4103-9b77-f490d98ae619"
      },
      "execution_count": 11,
      "outputs": [
        {
          "output_type": "stream",
          "name": "stdout",
          "text": [
            "<class 'list'>\n"
          ]
        }
      ]
    },
    {
      "cell_type": "code",
      "source": [
        "%timeit [j**4 for j in range(1,9)]"
      ],
      "metadata": {
        "colab": {
          "base_uri": "https://localhost:8080/"
        },
        "id": "HO4VDW3cE03x",
        "outputId": "ea8aca8c-c5b9-43be-cbd9-8408a4c3dda4"
      },
      "execution_count": 12,
      "outputs": [
        {
          "output_type": "stream",
          "name": "stdout",
          "text": [
            "2.6 µs ± 47.3 ns per loop (mean ± std. dev. of 7 runs, 100000 loops each)\n"
          ]
        }
      ]
    },
    {
      "cell_type": "code",
      "source": [
        "%timeit np.arange(1,9)**4"
      ],
      "metadata": {
        "colab": {
          "base_uri": "https://localhost:8080/"
        },
        "id": "G6n0qbRWIPV-",
        "outputId": "8e86179d-edec-44d8-825e-04126d7f3830"
      },
      "execution_count": 13,
      "outputs": [
        {
          "output_type": "stream",
          "name": "stdout",
          "text": [
            "2.46 µs ± 505 ns per loop (mean ± std. dev. of 7 runs, 100000 loops each)\n"
          ]
        }
      ]
    },
    {
      "cell_type": "code",
      "source": [
        "myInput = int(input(\"Enter Any Number\"))\n",
        "print(myInput)"
      ],
      "metadata": {
        "colab": {
          "base_uri": "https://localhost:8080/"
        },
        "id": "XGWTTiJZkdWM",
        "outputId": "b1c78bf9-40b6-4719-cc02-f78f915a849f"
      },
      "execution_count": 15,
      "outputs": [
        {
          "output_type": "stream",
          "name": "stdout",
          "text": [
            "Enter Any Number33\n",
            "33\n"
          ]
        }
      ]
    },
    {
      "cell_type": "code",
      "source": [
        "print(type(myInput))"
      ],
      "metadata": {
        "colab": {
          "base_uri": "https://localhost:8080/"
        },
        "id": "UhLQUetxktt7",
        "outputId": "e5deff82-5b18-4c74-d816-63cde9a3d7a6"
      },
      "execution_count": 16,
      "outputs": [
        {
          "output_type": "stream",
          "name": "stdout",
          "text": [
            "<class 'int'>\n"
          ]
        }
      ]
    },
    {
      "cell_type": "markdown",
      "source": [
        "#**Initialization of the list**\n",
        "Here, an empty list called listValues is created.\n",
        "This list will store the integer values entered by the user.\n",
        "This for loop runs 4 times (from 1 to 4), as the range(1, 5) function generates numbers from 1 to 4. Each time the loop runs, the user will be prompted to enter a value.\n",
        "\n",
        "#**Input and Append**\n",
        "\n",
        "*   In each iteration of the loop, the program prompts the user to enter an integer value.\n",
        "\n",
        "*   The entered value is converted from a string to an integer using int().\n",
        "\n",
        "*   The integer is then added (appended) to the values list using append().\n",
        "\n",
        "#**Converting the List to a NumPy Array**\n",
        "\n",
        "*   Finally, after all 4 values are entered, the list values is converted into a NumPy array using np.array().\n",
        "*   The array is then printed to the screen."
      ],
      "metadata": {
        "id": "i6Q83jt7Kjzx"
      }
    },
    {
      "cell_type": "code",
      "source": [
        "listValues = []\n",
        "for i in range(1, 5):\n",
        "    getInputValue = int(input(\"Enter: \"))\n",
        "    listValues.append(getInputValue)\n",
        "\n",
        "print(listValues)\n"
      ],
      "metadata": {
        "colab": {
          "base_uri": "https://localhost:8080/"
        },
        "id": "VfJGjafaIhAy",
        "outputId": "9e4183b9-4d67-40c0-87b3-661722e2af66"
      },
      "execution_count": 17,
      "outputs": [
        {
          "output_type": "stream",
          "name": "stdout",
          "text": [
            "Enter: 44\n",
            "Enter: 88\n",
            "Enter: 22\n",
            "Enter: 32\n",
            "[44, 88, 22, 32]\n"
          ]
        }
      ]
    },
    {
      "cell_type": "code",
      "source": [
        "print(np.array(listValues))"
      ],
      "metadata": {
        "colab": {
          "base_uri": "https://localhost:8080/"
        },
        "id": "XPi17FwYmhaU",
        "outputId": "863f2629-90b8-4aad-a35b-0c7d4ec6a13e"
      },
      "execution_count": 18,
      "outputs": [
        {
          "output_type": "stream",
          "name": "stdout",
          "text": [
            "[44 88 22 32]\n"
          ]
        }
      ]
    },
    {
      "cell_type": "markdown",
      "source": [
        "#**Weekly Temperature Analysis Using NumPy**"
      ],
      "metadata": {
        "id": "LISGfJA6MaPk"
      }
    },
    {
      "cell_type": "code",
      "source": [
        "\n",
        "temperatures = np.array([36, 39, 34, 42, 40, 38, 33])\n",
        "\n",
        "average_temp = np.mean(temperatures)\n",
        "\n",
        "print(\"Temperatures over the week:\", temperatures)\n",
        "print(f\"Average temperature: {average_temp:.2f}\")"
      ],
      "metadata": {
        "colab": {
          "base_uri": "https://localhost:8080/"
        },
        "id": "3n0CXhtaKJT3",
        "outputId": "705af7ee-8ccf-40e4-a620-d2eb9268ab85"
      },
      "execution_count": 20,
      "outputs": [
        {
          "output_type": "stream",
          "name": "stdout",
          "text": [
            "Temperatures over the week: [36 39 34 42 40 38 33]\n",
            "Average temperature: 37.43\n"
          ]
        }
      ]
    },
    {
      "cell_type": "markdown",
      "source": [
        "#**Weekly Sales Data Analysis Using NumPy**"
      ],
      "metadata": {
        "id": "LMNrpyHlNFo2"
      }
    },
    {
      "cell_type": "code",
      "source": [
        "\n",
        "daily_sales = np.array([150, 200, 170, 220, 180, 190, 210])\n",
        "\n",
        "average_sales = np.mean(daily_sales)\n",
        "print(f\"Average daily sales: PKR {average_sales:.2f}\")\n",
        "\n",
        "total_sales = np.sum(daily_sales)\n",
        "print(f\"Total sales for the week: PKR {total_sales:.2f}\")\n",
        "\n",
        "max_sales = np.max(daily_sales)\n",
        "min_sales = np.min(daily_sales)\n",
        "print(f\"Maximum sales in a day: PKR {max_sales:.2f}\")\n",
        "print(f\"Minimum sales in a day: PKR {min_sales:.2f}\")\n",
        "\n",
        "std_sales = np.std(daily_sales)\n",
        "print(f\"Standard deviation of sales: PKR {std_sales:.2f}\")\n",
        "\n",
        "variance_sales = np.var(daily_sales)\n",
        "print(f\"Variance of sales: PKR {variance_sales:.2f}\")\n",
        "\n",
        "cumulative_sales = np.cumsum(daily_sales)\n",
        "print(\"Cumulative sales for the week:\", cumulative_sales)\n"
      ],
      "metadata": {
        "colab": {
          "base_uri": "https://localhost:8080/"
        },
        "id": "sxozA2y2M5vP",
        "outputId": "410a73d2-90b7-4b09-b83e-58f743d1b076"
      },
      "execution_count": 25,
      "outputs": [
        {
          "output_type": "stream",
          "name": "stdout",
          "text": [
            "Average daily sales: PKR 188.57\n",
            "Total sales for the week: PKR 1320.00\n",
            "Maximum sales in a day: PKR 220.00\n",
            "Minimum sales in a day: PKR 150.00\n",
            "Standard deviation of sales: PKR 22.31\n",
            "Variance of sales: PKR 497.96\n",
            "Cumulative sales for the week: [ 150  350  520  740  920 1110 1320]\n"
          ]
        }
      ]
    },
    {
      "cell_type": "markdown",
      "source": [
        "#**What is a 2D Array?**\n",
        "A 2D array (or two-dimensional array) is an array of arrays, which can be thought of as a table with rows and columns. Each element in the 2D array can be accessed using two indices: one for the row and one for the column.\n",
        "\n",
        "#**Grocery Store Inventory Analysis**"
      ],
      "metadata": {
        "id": "HgpGJs_OMTnq"
      }
    },
    {
      "cell_type": "code",
      "source": [
        "inventory = np.array([\n",
        "    [50.0, 100],  # Product 1: Price 50 PKR, Quantity 100\n",
        "    [30.0, 150],  # Product 2: Price 30 PKR, Quantity 150\n",
        "    [40.0, 120],  # Product 3: Price 40 PKR, Quantity 120\n",
        "    [80.0, 80],   # Product 4: Price 80 PKR, Quantity 80\n",
        "    [45.0, 200]   # Product 5: Price 45 PKR, Quantity 200\n",
        "])\n",
        "\n",
        "\n",
        "total_quantity = np.sum(inventory[:, 1])\n",
        "print(f\"Total quantity of products in stock: {total_quantity}\")\n",
        "\n",
        "\n",
        "total_value = np.sum(inventory[:, 0] * inventory[:, 1])\n",
        "print(f\"Total value of inventory (in PKR): {total_value:.2f}\")\n",
        "\n",
        "\n",
        "average_price = np.mean(inventory[:, 0])\n",
        "print(f\"Average price of products (in PKR): {average_price:.2f}\")\n",
        "\n",
        "\n",
        "print(\"\\nGrocery Store Inventory:\")\n",
        "for i, item in enumerate(inventory, start=1):\n",
        "    print(f\"Product {i}: Price: PKR {item[0]:.2f}, Quantity: {item[1]}\")\n"
      ],
      "metadata": {
        "colab": {
          "base_uri": "https://localhost:8080/"
        },
        "id": "iwuucrwROAXE",
        "outputId": "b321c8bf-4059-4d8d-aa79-371512edfcc9"
      },
      "execution_count": 26,
      "outputs": [
        {
          "output_type": "stream",
          "name": "stdout",
          "text": [
            "Total quantity of products in stock: 650.0\n",
            "Total value of inventory (in PKR): 29700.00\n",
            "Average price of products (in PKR): 49.00\n",
            "\n",
            "Grocery Store Inventory:\n",
            "Product 1: Price: PKR 50.00, Quantity: 100.0\n",
            "Product 2: Price: PKR 30.00, Quantity: 150.0\n",
            "Product 3: Price: PKR 40.00, Quantity: 120.0\n",
            "Product 4: Price: PKR 80.00, Quantity: 80.0\n",
            "Product 5: Price: PKR 45.00, Quantity: 200.0\n"
          ]
        }
      ]
    },
    {
      "cell_type": "markdown",
      "source": [],
      "metadata": {
        "id": "CoMHQDPrO9o9"
      }
    },
    {
      "cell_type": "code",
      "source": [],
      "metadata": {
        "id": "yNRrHufiOPTP"
      },
      "execution_count": null,
      "outputs": []
    }
  ]
}