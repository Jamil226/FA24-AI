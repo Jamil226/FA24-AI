{
  "nbformat": 4,
  "nbformat_minor": 0,
  "metadata": {
    "colab": {
      "provenance": []
    },
    "kernelspec": {
      "name": "python3",
      "display_name": "Python 3"
    },
    "language_info": {
      "name": "python"
    }
  },
  "cells": [
    {
      "cell_type": "markdown",
      "source": [
        "# **Web Scrapping using BeatifulSoup**\n",
        "\n",
        "BeautifulSoup is a Python library used for extracting data from HTML and XML files. It creates a parse tree from the page's source code, which makes it easy to navigate and search the data.\n",
        "\n"
      ],
      "metadata": {
        "id": "Hro0OGgXlu6d"
      }
    },
    {
      "cell_type": "markdown",
      "source": [
        "# **Installing BeautifulSoup and Requests**\n",
        "\n",
        "\n",
        "Before using BeautifulSoup, you'll need to install it and the requests library, which helps in fetching web pages."
      ],
      "metadata": {
        "id": "8jFHqsrPnIrD"
      }
    },
    {
      "cell_type": "code",
      "source": [
        "!pip install beautifulsoup4\n",
        "!pip install requests"
      ],
      "metadata": {
        "colab": {
          "base_uri": "https://localhost:8080/"
        },
        "id": "65vwKdXdnPz9",
        "outputId": "0a63d8b1-b836-403c-d749-cfc057c698b6"
      },
      "execution_count": 1,
      "outputs": [
        {
          "output_type": "stream",
          "name": "stdout",
          "text": [
            "Requirement already satisfied: beautifulsoup4 in /usr/local/lib/python3.10/dist-packages (4.12.3)\n",
            "Requirement already satisfied: soupsieve>1.2 in /usr/local/lib/python3.10/dist-packages (from beautifulsoup4) (2.6)\n",
            "Requirement already satisfied: requests in /usr/local/lib/python3.10/dist-packages (2.32.3)\n",
            "Requirement already satisfied: charset-normalizer<4,>=2 in /usr/local/lib/python3.10/dist-packages (from requests) (3.4.0)\n",
            "Requirement already satisfied: idna<4,>=2.5 in /usr/local/lib/python3.10/dist-packages (from requests) (3.10)\n",
            "Requirement already satisfied: urllib3<3,>=1.21.1 in /usr/local/lib/python3.10/dist-packages (from requests) (2.2.3)\n",
            "Requirement already satisfied: certifi>=2017.4.17 in /usr/local/lib/python3.10/dist-packages (from requests) (2024.8.30)\n"
          ]
        }
      ]
    },
    {
      "cell_type": "code",
      "source": [
        "import requests\n",
        "from bs4 import BeautifulSoup as bs"
      ],
      "metadata": {
        "id": "qa9F9wwmnSEh"
      },
      "execution_count": 2,
      "outputs": []
    },
    {
      "cell_type": "markdown",
      "source": [
        "# **Basic Workflow of Web Scraping**\n",
        "\n",
        "1.   Fetch the web page using requests.\n",
        "2.   Parse the page using BeautifulSoup.\n",
        "3.   Extract specific data by navigating the parsed HTML.\n",
        "\n",
        "\n"
      ],
      "metadata": {
        "id": "mq0DBjJUna_r"
      }
    },
    {
      "cell_type": "code",
      "source": [
        "link = 'https://jamil226.github.io/CUI-Web/Navbar/about.html'"
      ],
      "metadata": {
        "id": "8_JAHev7nw6t"
      },
      "execution_count": 22,
      "outputs": []
    },
    {
      "cell_type": "code",
      "source": [
        "# Create headers with a user-agent\n",
        "headers = {\n",
        "    'User-Agent': 'Mozilla/5.0 (Windows NT 10.0; Win64; x64) AppleWebKit/537.36 (KHTML, like Gecko) Chrome/91.0.4472.124 Safari/537.36'\n",
        "}"
      ],
      "metadata": {
        "id": "Re3UxQ07uQ5_"
      },
      "execution_count": 29,
      "outputs": []
    },
    {
      "cell_type": "code",
      "source": [
        "# Send the request with headers\n",
        "response = requests.get(link, headers=headers)"
      ],
      "metadata": {
        "id": "Y9Up0CtguU8C"
      },
      "execution_count": 30,
      "outputs": []
    },
    {
      "cell_type": "code",
      "source": [
        "\n",
        "if response.status_code == 200:\n",
        "    soup = bs(response.text, 'html.parser')\n",
        "    print(soup.prettify())\n",
        "else:\n",
        "    print(f\"Failed to retrieve the page. Status code: {response.status_code}\")\n"
      ],
      "metadata": {
        "colab": {
          "base_uri": "https://localhost:8080/"
        },
        "id": "LUH_NN4Mujoj",
        "outputId": "feeab94c-0e54-497a-b782-e24904931d7e"
      },
      "execution_count": 31,
      "outputs": [
        {
          "output_type": "stream",
          "name": "stdout",
          "text": [
            "<!DOCTYPE html>\n",
            "<html lang=\"en\">\n",
            " <head>\n",
            "  <title>\n",
            "   About | Comsats University Sahiwal Campus\n",
            "  </title>\n",
            "  <meta charset=\"utf-8\"/>\n",
            "  <meta content=\"IE=edge\" http-equiv=\"X-UA-Compatible\"/>\n",
            "  <meta content=\"width=device-width, initial-scale=1.0\" name=\"viewport\"/>\n",
            "  <link href=\"assets/images/favicon/apple-touch-icon.png\" rel=\"apple-touch-icon\" sizes=\"180x180\"/>\n",
            "  <link href=\"assets/images/favicon/favicon-32x32.png\" rel=\"icon\" sizes=\"32x32\" type=\"image/png\"/>\n",
            "  <link href=\"assets/images/favicon/favicon-16x16.png\" rel=\"icon\" sizes=\"16x16\" type=\"image/png\"/>\n",
            "  <link href=\"assets/images/favicon/site.webmanifest\" rel=\"manifest\"/>\n",
            "  <link href=\"assets/css/style2.css\" rel=\"stylesheet\"/>\n",
            " </head>\n",
            " <body>\n",
            "  <header>\n",
            "   <div class=\"nav-container\">\n",
            "    <nav>\n",
            "     <ul class=\"navbar\">\n",
            "      <li class=\"navbar-item\">\n",
            "       <a class=\"navbar-item-link\" href=\"index.html\">\n",
            "        Home\n",
            "       </a>\n",
            "      </li>\n",
            "      <li class=\"navbar-item\">\n",
            "       <a class=\"navbar-item-link\" href=\"about.html\">\n",
            "        About\n",
            "       </a>\n",
            "      </li>\n",
            "      <li class=\"navbar-item\">\n",
            "       <a class=\"navbar-item-link\" href=\"campus-life.html\">\n",
            "        Campus Life\n",
            "       </a>\n",
            "      </li>\n",
            "      <li class=\"navbar-item\">\n",
            "       <a class=\"navbar-item-link\" href=\"faqs.html\">\n",
            "        FAQs\n",
            "       </a>\n",
            "      </li>\n",
            "      <li class=\"navbar-item\">\n",
            "       <a class=\"navbar-item-link\" href=\"contact.html\">\n",
            "        Contact\n",
            "       </a>\n",
            "      </li>\n",
            "     </ul>\n",
            "    </nav>\n",
            "   </div>\n",
            "  </header>\n",
            "  <main>\n",
            "   <center>\n",
            "    <img alt=\"Image not found\" src=\"assets/images/about-img.jpg\" style=\"margin:30px; border: 3px solid #5d3fd3\"/>\n",
            "   </center>\n",
            "   <h3>\n",
            "    Introduction\n",
            "   </h3>\n",
            "   <p>\n",
            "    COMSATS University Islamabad, Sahiwal campus is situated half-way between Lahore and Multan on COMSATS Road off G.T Road Sahiwal, was formally inaugurated on September 23, 2006. The campus is purpose built and is spread over area of 36 acres on land.\n",
            "   </p>\n",
            "   <p>\n",
            "    CUI Sahiwal is committed to provide state of the art training and education to our students and prepare them for successful career in their respective fields. Our mission is to encourage learning and promote research activities in order to facilitate our students to fulfill their aims and aspirations objectively.\n",
            "   </p>\n",
            "   <p>\n",
            "    We are offering a broad range of programs, especially in the areas of Management Sciences, Computer Science, Biosciences, Engineering and Humanities. Our programs are focused on creating crucially needed transitions toward sustainable practice. CUI Sahiwal strives to prepare a knowledge workforce which is comparable to the best in the world. This is achieved through instruction and the use of up-to-date technology. Our highly qualified faculty plays the role mentors for our students and nurtures their individual talents. We also accentuate group projects to make our students learn to be co-operative and productive as team members.\n",
            "   </p>\n",
            "  </main>\n",
            "  <footer>\n",
            "   <div class=\"footer\">\n",
            "    <h5>\n",
            "     All Rights Reserved © 2023 | Designed by CUI Sahiwal\n",
            "    </h5>\n",
            "   </div>\n",
            "  </footer>\n",
            " </body>\n",
            "</html>\n",
            "\n"
          ]
        }
      ]
    },
    {
      "cell_type": "code",
      "source": [
        "list(soup.children)"
      ],
      "metadata": {
        "colab": {
          "base_uri": "https://localhost:8080/"
        },
        "id": "yPcicOcHoJ46",
        "outputId": "476913a2-5594-42f2-bbc9-ca01e271e3c6"
      },
      "execution_count": 32,
      "outputs": [
        {
          "output_type": "execute_result",
          "data": {
            "text/plain": [
              "['html',\n",
              " '\\n',\n",
              " <html lang=\"en\">\n",
              " <head>\n",
              " <title>About | Comsats University Sahiwal Campus</title>\n",
              " <meta charset=\"utf-8\"/>\n",
              " <meta content=\"IE=edge\" http-equiv=\"X-UA-Compatible\"/>\n",
              " <meta content=\"width=device-width, initial-scale=1.0\" name=\"viewport\"/>\n",
              " <link href=\"assets/images/favicon/apple-touch-icon.png\" rel=\"apple-touch-icon\" sizes=\"180x180\"/>\n",
              " <link href=\"assets/images/favicon/favicon-32x32.png\" rel=\"icon\" sizes=\"32x32\" type=\"image/png\"/>\n",
              " <link href=\"assets/images/favicon/favicon-16x16.png\" rel=\"icon\" sizes=\"16x16\" type=\"image/png\"/>\n",
              " <link href=\"assets/images/favicon/site.webmanifest\" rel=\"manifest\"/>\n",
              " <link href=\"assets/css/style2.css\" rel=\"stylesheet\"/>\n",
              " </head>\n",
              " <body>\n",
              " <header>\n",
              " <div class=\"nav-container\">\n",
              " <nav>\n",
              " <ul class=\"navbar\">\n",
              " <li class=\"navbar-item\">\n",
              " <a class=\"navbar-item-link\" href=\"index.html\">Home</a>\n",
              " </li>\n",
              " <li class=\"navbar-item\">\n",
              " <a class=\"navbar-item-link\" href=\"about.html\">About</a>\n",
              " </li>\n",
              " <li class=\"navbar-item\">\n",
              " <a class=\"navbar-item-link\" href=\"campus-life.html\">Campus Life</a>\n",
              " </li>\n",
              " <li class=\"navbar-item\">\n",
              " <a class=\"navbar-item-link\" href=\"faqs.html\">FAQs</a>\n",
              " </li>\n",
              " <li class=\"navbar-item\">\n",
              " <a class=\"navbar-item-link\" href=\"contact.html\">Contact</a>\n",
              " </li>\n",
              " \n",
              " </ul>\n",
              " </nav>\n",
              " </div>\n",
              " </header>\n",
              " <main>\n",
              " <center>\n",
              " <img alt=\"Image not found\" src=\"assets/images/about-img.jpg\" style=\"margin:30px; border: 3px solid #5d3fd3\"/>\n",
              " </center>\n",
              " <h3>Introduction</h3>\n",
              " <p>\n",
              "                 COMSATS University Islamabad, Sahiwal campus is situated half-way between Lahore and Multan on COMSATS Road off G.T Road Sahiwal, was formally inaugurated on September 23, 2006. The campus is purpose built and is spread over area of 36 acres on land.\n",
              "             </p>\n",
              " <p>\n",
              "                 CUI Sahiwal is committed to provide state of the art training and education to our students and prepare them for successful career in their respective fields. Our mission is to encourage learning and promote research activities in order to facilitate our students to fulfill their aims and aspirations objectively.\n",
              "             </p>\n",
              " <p>\n",
              "                 We are offering a broad range of programs, especially in the areas of Management Sciences, Computer Science, Biosciences, Engineering and Humanities. Our programs are focused on creating crucially needed transitions toward sustainable practice. CUI Sahiwal strives to prepare a knowledge workforce which is comparable to the best in the world. This is achieved through instruction and the use of up-to-date technology. Our highly qualified faculty plays the role mentors for our students and nurtures their individual talents. We also accentuate group projects to make our students learn to be co-operative and productive as team members.\n",
              "             </p>\n",
              " </main>\n",
              " <footer>\n",
              " <div class=\"footer\">\n",
              " <h5>All Rights Reserved © 2023 | Designed by CUI Sahiwal </h5>\n",
              " </div>\n",
              " </footer>\n",
              " </body>\n",
              " </html>]"
            ]
          },
          "metadata": {},
          "execution_count": 32
        }
      ]
    },
    {
      "cell_type": "code",
      "source": [
        "list(soup.children)[0]"
      ],
      "metadata": {
        "colab": {
          "base_uri": "https://localhost:8080/",
          "height": 35
        },
        "id": "4DGucvnLoL4o",
        "outputId": "34db4b09-b63b-4490-a8b6-f0770287f91e"
      },
      "execution_count": 33,
      "outputs": [
        {
          "output_type": "execute_result",
          "data": {
            "text/plain": [
              "'html'"
            ],
            "application/vnd.google.colaboratory.intrinsic+json": {
              "type": "string"
            }
          },
          "metadata": {},
          "execution_count": 33
        }
      ]
    },
    {
      "cell_type": "code",
      "source": [
        "list(soup.children)[1]"
      ],
      "metadata": {
        "colab": {
          "base_uri": "https://localhost:8080/",
          "height": 35
        },
        "id": "-fWMVmg7q0Gv",
        "outputId": "90a1c430-44d2-4463-b71f-f37dc711005d"
      },
      "execution_count": 37,
      "outputs": [
        {
          "output_type": "execute_result",
          "data": {
            "text/plain": [
              "'\\n'"
            ],
            "application/vnd.google.colaboratory.intrinsic+json": {
              "type": "string"
            }
          },
          "metadata": {},
          "execution_count": 37
        }
      ]
    },
    {
      "cell_type": "code",
      "source": [
        "html = list(soup.children)[2]"
      ],
      "metadata": {
        "id": "ptJUJwIpq7tf"
      },
      "execution_count": 39,
      "outputs": []
    },
    {
      "cell_type": "code",
      "source": [
        "list(html.children)"
      ],
      "metadata": {
        "colab": {
          "base_uri": "https://localhost:8080/"
        },
        "id": "jIr3VZ8FrDx9",
        "outputId": "70cc5e94-b5f6-433b-c69b-68c9ce1a5123"
      },
      "execution_count": 40,
      "outputs": [
        {
          "output_type": "execute_result",
          "data": {
            "text/plain": [
              "['\\n',\n",
              " <head>\n",
              " <title>About | Comsats University Sahiwal Campus</title>\n",
              " <meta charset=\"utf-8\"/>\n",
              " <meta content=\"IE=edge\" http-equiv=\"X-UA-Compatible\"/>\n",
              " <meta content=\"width=device-width, initial-scale=1.0\" name=\"viewport\"/>\n",
              " <link href=\"assets/images/favicon/apple-touch-icon.png\" rel=\"apple-touch-icon\" sizes=\"180x180\"/>\n",
              " <link href=\"assets/images/favicon/favicon-32x32.png\" rel=\"icon\" sizes=\"32x32\" type=\"image/png\"/>\n",
              " <link href=\"assets/images/favicon/favicon-16x16.png\" rel=\"icon\" sizes=\"16x16\" type=\"image/png\"/>\n",
              " <link href=\"assets/images/favicon/site.webmanifest\" rel=\"manifest\"/>\n",
              " <link href=\"assets/css/style2.css\" rel=\"stylesheet\"/>\n",
              " </head>,\n",
              " '\\n',\n",
              " <body>\n",
              " <header>\n",
              " <div class=\"nav-container\">\n",
              " <nav>\n",
              " <ul class=\"navbar\">\n",
              " <li class=\"navbar-item\">\n",
              " <a class=\"navbar-item-link\" href=\"index.html\">Home</a>\n",
              " </li>\n",
              " <li class=\"navbar-item\">\n",
              " <a class=\"navbar-item-link\" href=\"about.html\">About</a>\n",
              " </li>\n",
              " <li class=\"navbar-item\">\n",
              " <a class=\"navbar-item-link\" href=\"campus-life.html\">Campus Life</a>\n",
              " </li>\n",
              " <li class=\"navbar-item\">\n",
              " <a class=\"navbar-item-link\" href=\"faqs.html\">FAQs</a>\n",
              " </li>\n",
              " <li class=\"navbar-item\">\n",
              " <a class=\"navbar-item-link\" href=\"contact.html\">Contact</a>\n",
              " </li>\n",
              " \n",
              " </ul>\n",
              " </nav>\n",
              " </div>\n",
              " </header>\n",
              " <main>\n",
              " <center>\n",
              " <img alt=\"Image not found\" src=\"assets/images/about-img.jpg\" style=\"margin:30px; border: 3px solid #5d3fd3\"/>\n",
              " </center>\n",
              " <h3>Introduction</h3>\n",
              " <p>\n",
              "                 COMSATS University Islamabad, Sahiwal campus is situated half-way between Lahore and Multan on COMSATS Road off G.T Road Sahiwal, was formally inaugurated on September 23, 2006. The campus is purpose built and is spread over area of 36 acres on land.\n",
              "             </p>\n",
              " <p>\n",
              "                 CUI Sahiwal is committed to provide state of the art training and education to our students and prepare them for successful career in their respective fields. Our mission is to encourage learning and promote research activities in order to facilitate our students to fulfill their aims and aspirations objectively.\n",
              "             </p>\n",
              " <p>\n",
              "                 We are offering a broad range of programs, especially in the areas of Management Sciences, Computer Science, Biosciences, Engineering and Humanities. Our programs are focused on creating crucially needed transitions toward sustainable practice. CUI Sahiwal strives to prepare a knowledge workforce which is comparable to the best in the world. This is achieved through instruction and the use of up-to-date technology. Our highly qualified faculty plays the role mentors for our students and nurtures their individual talents. We also accentuate group projects to make our students learn to be co-operative and productive as team members.\n",
              "             </p>\n",
              " </main>\n",
              " <footer>\n",
              " <div class=\"footer\">\n",
              " <h5>All Rights Reserved © 2023 | Designed by CUI Sahiwal </h5>\n",
              " </div>\n",
              " </footer>\n",
              " </body>,\n",
              " '\\n']"
            ]
          },
          "metadata": {},
          "execution_count": 40
        }
      ]
    },
    {
      "cell_type": "code",
      "source": [
        "head = list(html.children)[1]"
      ],
      "metadata": {
        "id": "yH5r-4mNso6q"
      },
      "execution_count": 42,
      "outputs": []
    },
    {
      "cell_type": "code",
      "source": [
        "list(head.children)[1]"
      ],
      "metadata": {
        "colab": {
          "base_uri": "https://localhost:8080/"
        },
        "id": "oB0DAKEnuEMr",
        "outputId": "34d4c3da-e4f0-443d-c71b-c4f2d5e64f16"
      },
      "execution_count": 44,
      "outputs": [
        {
          "output_type": "execute_result",
          "data": {
            "text/plain": [
              "<title>About | Comsats University Sahiwal Campus</title>"
            ]
          },
          "metadata": {},
          "execution_count": 44
        }
      ]
    },
    {
      "cell_type": "code",
      "source": [
        "title = list(head.children)[1]"
      ],
      "metadata": {
        "id": "pAfdS-n8wam4"
      },
      "execution_count": 45,
      "outputs": []
    },
    {
      "cell_type": "code",
      "source": [
        "data = title.get_text()"
      ],
      "metadata": {
        "id": "CzPEH-GpwrPK"
      },
      "execution_count": 46,
      "outputs": []
    },
    {
      "cell_type": "code",
      "source": [
        "print(data)"
      ],
      "metadata": {
        "colab": {
          "base_uri": "https://localhost:8080/"
        },
        "id": "cO1xapAjwvQC",
        "outputId": "b8f2d002-7947-4757-aace-2ac79faead30"
      },
      "execution_count": 47,
      "outputs": [
        {
          "output_type": "stream",
          "name": "stdout",
          "text": [
            "About | Comsats University Sahiwal Campus\n"
          ]
        }
      ]
    },
    {
      "cell_type": "code",
      "source": [
        "soup.find_all('p')"
      ],
      "metadata": {
        "colab": {
          "base_uri": "https://localhost:8080/"
        },
        "id": "QnWVEMlmww7p",
        "outputId": "337176b6-75b9-441a-da9f-6c6fb9a8b95f"
      },
      "execution_count": 48,
      "outputs": [
        {
          "output_type": "execute_result",
          "data": {
            "text/plain": [
              "[<p>\n",
              "                 COMSATS University Islamabad, Sahiwal campus is situated half-way between Lahore and Multan on COMSATS Road off G.T Road Sahiwal, was formally inaugurated on September 23, 2006. The campus is purpose built and is spread over area of 36 acres on land.\n",
              "             </p>,\n",
              " <p>\n",
              "                 CUI Sahiwal is committed to provide state of the art training and education to our students and prepare them for successful career in their respective fields. Our mission is to encourage learning and promote research activities in order to facilitate our students to fulfill their aims and aspirations objectively.\n",
              "             </p>,\n",
              " <p>\n",
              "                 We are offering a broad range of programs, especially in the areas of Management Sciences, Computer Science, Biosciences, Engineering and Humanities. Our programs are focused on creating crucially needed transitions toward sustainable practice. CUI Sahiwal strives to prepare a knowledge workforce which is comparable to the best in the world. This is achieved through instruction and the use of up-to-date technology. Our highly qualified faculty plays the role mentors for our students and nurtures their individual talents. We also accentuate group projects to make our students learn to be co-operative and productive as team members.\n",
              "             </p>]"
            ]
          },
          "metadata": {},
          "execution_count": 48
        }
      ]
    },
    {
      "cell_type": "code",
      "source": [
        "pragraph_two_data = soup.find_all('p')[1].get_text()"
      ],
      "metadata": {
        "id": "EC-z0FjFw-Xp"
      },
      "execution_count": 51,
      "outputs": []
    },
    {
      "cell_type": "code",
      "source": [
        "print(pragraph_two_data)"
      ],
      "metadata": {
        "colab": {
          "base_uri": "https://localhost:8080/"
        },
        "id": "RFiEVICexIQ_",
        "outputId": "da56b0cd-9853-4947-dac5-6c6c210048ca"
      },
      "execution_count": 52,
      "outputs": [
        {
          "output_type": "stream",
          "name": "stdout",
          "text": [
            "\n",
            "                CUI Sahiwal is committed to provide state of the art training and education to our students and prepare them for successful career in their respective fields. Our mission is to encourage learning and promote research activities in order to facilitate our students to fulfill their aims and aspirations objectively.\n",
            "            \n"
          ]
        }
      ]
    },
    {
      "cell_type": "code",
      "source": [
        "nabvbar_item_content = soup.find_all('li', class_='navbar-item')\n",
        "print(nabvbar_item_content)"
      ],
      "metadata": {
        "colab": {
          "base_uri": "https://localhost:8080/"
        },
        "id": "YfJmJMdwxQhG",
        "outputId": "5e158341-5b6f-41cf-fc2e-654d85e654dd"
      },
      "execution_count": 53,
      "outputs": [
        {
          "output_type": "stream",
          "name": "stdout",
          "text": [
            "[<li class=\"navbar-item\">\n",
            "<a class=\"navbar-item-link\" href=\"index.html\">Home</a>\n",
            "</li>, <li class=\"navbar-item\">\n",
            "<a class=\"navbar-item-link\" href=\"about.html\">About</a>\n",
            "</li>, <li class=\"navbar-item\">\n",
            "<a class=\"navbar-item-link\" href=\"campus-life.html\">Campus Life</a>\n",
            "</li>, <li class=\"navbar-item\">\n",
            "<a class=\"navbar-item-link\" href=\"faqs.html\">FAQs</a>\n",
            "</li>, <li class=\"navbar-item\">\n",
            "<a class=\"navbar-item-link\" href=\"contact.html\">Contact</a>\n",
            "</li>]\n"
          ]
        }
      ]
    },
    {
      "cell_type": "markdown",
      "source": [
        "# **Retutning the content having an ID (May be unique or not)**"
      ],
      "metadata": {
        "id": "Qfx5-ZpWyrwE"
      }
    },
    {
      "cell_type": "code",
      "source": [
        "nabvbar_item_content = soup.find_all('li', id='navbar-item')\n",
        "print(nabvbar_item_content)"
      ],
      "metadata": {
        "colab": {
          "base_uri": "https://localhost:8080/"
        },
        "id": "AfJ_6VxbydQf",
        "outputId": "64a8c728-add2-40c9-a5be-0fb17b401b4c"
      },
      "execution_count": 54,
      "outputs": [
        {
          "output_type": "stream",
          "name": "stdout",
          "text": [
            "[]\n"
          ]
        }
      ]
    },
    {
      "cell_type": "markdown",
      "source": [
        "# **Fetching Data from CSS Selector**"
      ],
      "metadata": {
        "id": "T2eNZibozCQL"
      }
    },
    {
      "cell_type": "code",
      "source": [
        "selecting_h5_from_selector = soup.select(\"div h5\")\n",
        "print(selecting_h5_from_selector)"
      ],
      "metadata": {
        "colab": {
          "base_uri": "https://localhost:8080/"
        },
        "id": "ACIholtLypQF",
        "outputId": "33a96adb-270c-4437-b66d-bcbfead8353c"
      },
      "execution_count": 60,
      "outputs": [
        {
          "output_type": "stream",
          "name": "stdout",
          "text": [
            "[<h5>All Rights Reserved © 2023 | Designed by CUI Sahiwal </h5>]\n"
          ]
        }
      ]
    },
    {
      "cell_type": "code",
      "source": [
        "for h5 in selecting_h5_from_selector:\n",
        "    print(h5.get_text(strip=True))"
      ],
      "metadata": {
        "colab": {
          "base_uri": "https://localhost:8080/"
        },
        "id": "jkRS4Uqoz3cu",
        "outputId": "3e9a3a6e-2940-4393-8866-ba1f2c2a57dc"
      },
      "execution_count": 61,
      "outputs": [
        {
          "output_type": "stream",
          "name": "stdout",
          "text": [
            "All Rights Reserved © 2023 | Designed by CUI Sahiwal\n"
          ]
        }
      ]
    },
    {
      "cell_type": "code",
      "source": [
        "soup.find_all('a')"
      ],
      "metadata": {
        "colab": {
          "base_uri": "https://localhost:8080/"
        },
        "id": "iqrZVTvv1bDR",
        "outputId": "8bb5cb41-aadf-4fa6-b46b-26d6344e91f7"
      },
      "execution_count": 68,
      "outputs": [
        {
          "output_type": "execute_result",
          "data": {
            "text/plain": [
              "[<a class=\"navbar-item-link\" href=\"index.html\">Home</a>,\n",
              " <a class=\"navbar-item-link\" href=\"about.html\">About</a>,\n",
              " <a class=\"navbar-item-link\" href=\"campus-life.html\">Campus Life</a>,\n",
              " <a class=\"navbar-item-link\" href=\"faqs.html\">FAQs</a>,\n",
              " <a class=\"navbar-item-link\" href=\"contact.html\">Contact</a>]"
            ]
          },
          "metadata": {},
          "execution_count": 68
        }
      ]
    },
    {
      "cell_type": "code",
      "source": [
        "hyper_references = soup.find_all('a')"
      ],
      "metadata": {
        "id": "sT5ByeHy0Fm_"
      },
      "execution_count": 65,
      "outputs": []
    },
    {
      "cell_type": "code",
      "source": [
        "links = []\n",
        "for link in hyper_references:\n",
        "  links.append(link.get('href'))\n",
        "links"
      ],
      "metadata": {
        "colab": {
          "base_uri": "https://localhost:8080/"
        },
        "id": "ZCwqSkmp0zp2",
        "outputId": "d7e4333f-ea09-41b2-81ce-54a0328a5961"
      },
      "execution_count": 67,
      "outputs": [
        {
          "output_type": "execute_result",
          "data": {
            "text/plain": [
              "['index.html', 'about.html', 'campus-life.html', 'faqs.html', 'contact.html']"
            ]
          },
          "metadata": {},
          "execution_count": 67
        }
      ]
    },
    {
      "cell_type": "code",
      "source": [],
      "metadata": {
        "id": "u04rGimU1Spj"
      },
      "execution_count": null,
      "outputs": []
    }
  ]
}