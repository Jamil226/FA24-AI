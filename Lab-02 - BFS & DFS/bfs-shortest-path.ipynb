{
  "cells": [
    {
      "cell_type": "markdown",
      "metadata": {
        "id": "q-CeXt_bbDz6"
      },
      "source": [
        "# **Breadth-First Search (BFS)**\n",
        "Breadth-First Search (BFS) is an algorithm for traversing or searching through a graph or tree data structure. It explores nodes (vertices) level by level, starting from a given node (often called the root) and expanding outward in all directions. BFS visits all the nodes at the present depth level before moving on to the nodes at the next depth level.\n",
        "\n",
        "# **Key Concepts of BFS**\n",
        "\n",
        "### 1. Queue-Based Traversal\n",
        "BFS uses a queue to keep track of the nodes to be explored. Nodes are added to the queue in the order they are discovered, and the algorithm processes nodes one by one from the front of the queue.\n",
        "\n",
        "### 2. Level-Order Exploration\n",
        "BFS explores all neighbors (adjacent nodes) of the current node before moving on to the next level. It ensures that the shortest path (in terms of the number of edges) is found in an unweighted graph.\n",
        "\n",
        "### 3. Graph Representation\n",
        "BFS can be applied to graphs or trees. A graph is made up of nodes (also called vertices) connected by edges (links between nodes). The graph can be represented using an adjacency list, an adjacency matrix, or other data structures.\n",
        "\n",
        "---\n",
        "\n",
        "# **BFS Algorithm**\n",
        "\n",
        "1. **Start from the Root Node**: Begin with the starting node (source), add it to a queue, and mark it as visited.\n",
        "\n",
        "2. **Explore Neighbors**: Dequeue the current node, and for each of its unvisited neighbors, add them to the queue and mark them as visited.\n",
        "\n",
        "3. **Repeat**: Continue this process until all reachable nodes have been visited or until you find the desired node (for pathfinding problems).\n",
        "\n",
        "---\n",
        "\n",
        "# **Use Cases of BFS**\n",
        "\n",
        "### 1. Shortest Path in Unweighted Graph\n",
        "BFS is ideal for finding the shortest path between two nodes in an unweighted graph, as it explores all paths level by level.\n",
        "\n",
        "### 2. Connected Components\n",
        "BFS can be used to find all the nodes connected to a specific node in a graph.\n",
        "\n",
        "### 3. Solving Puzzles\n",
        "BFS is used in puzzles like mazes, where the shortest path from the start to the end needs to be found.\n",
        "\n",
        "\n",
        "# **Problem**\n",
        "We have a map where cities are connected by roads. Given a starting city and a destination city, we want to find the shortest path between them using BFS."
      ]
    },
    {
      "cell_type": "code",
      "execution_count": 11,
      "metadata": {
        "id": "TyKBZj_Maekg"
      },
      "outputs": [],
      "source": [
        "from collections import deque"
      ]
    },
    {
      "cell_type": "markdown",
      "metadata": {
        "id": "PON_lSIArAOt"
      },
      "source": [
        "# **Function to perform BFS**"
      ]
    },
    {
      "cell_type": "code",
      "execution_count": 12,
      "metadata": {
        "id": "_SWamRPTqx3R"
      },
      "outputs": [],
      "source": [
        "\n",
        "def bfs_shortest_path(graph, start, destination):\n",
        "\n",
        "    # queue = deque([[start]]) initializes a queue using the\n",
        "    # deque (double-ended queue) from the collections\n",
        "\n",
        "    queue = deque([[start]])\n",
        "\n",
        "    # A visited set is created to keep track of nodes that have been explored,\n",
        "    # ensuring that no node is revisited, which avoids cycles and unnecessary work.\n",
        "\n",
        "    visited = set()\n",
        "\n",
        "\n",
        "    # The while loop runs as long as there are paths\n",
        "    # in the queue to explore.\n",
        "    while queue:\n",
        "\n",
        "        #This removes and retrieves the first path from the queue (FIFO behavior).\n",
        "        path = queue.popleft()\n",
        "\n",
        "        #path[-1] gets the last element of the list path (the most recently added node in that path).\n",
        "        city = path[-1]\n",
        "\n",
        "        #If the current node (city) is the destination node, the function returns\n",
        "        #the current path, which represents the shortest path from the start to the destination.\n",
        "\n",
        "        if city == destination:\n",
        "            return path\n",
        "\n",
        "        # This checks if the current node (city) has not been visited yet.\n",
        "        # If it has been visited, it skips the following block to avoid processing it again.\n",
        "        if city not in visited:\n",
        "\n",
        "            #Adds the current node to the visited set to mark it as explored,\n",
        "            #ensuring it won’t be revisited.\n",
        "\n",
        "            visited.add(city)\n",
        "\n",
        "            #This loop iterates over all the neighboring nodes\n",
        "            #(connected nodes) of the current node (city).\n",
        "            for neighbor in graph[city]:\n",
        "\n",
        "                #A new copy of the current path is created.\n",
        "                #This ensures that the new path can be extended with the\n",
        "                #neighbor without modifying the original path.\n",
        "\n",
        "                new_path = list(path)\n",
        "\n",
        "\n",
        "                # The neighboring node (neighbor) is added to the new_path,\n",
        "                #forming a longer path to be explored in the next iteration.\n",
        "                new_path.append(neighbor)\n",
        "\n",
        "                #The extended new_path is added to the back of the queue,\n",
        "                #so it will be explored in a future iteration of the BFS.\n",
        "\n",
        "                queue.append(new_path)\n",
        "\n",
        "    return \"No path exists\"\n"
      ]
    },
    {
      "cell_type": "markdown",
      "metadata": {
        "id": "2DTI-gHFz8Mu"
      },
      "source": [
        "# **City Map Dictionary**\n",
        "\n",
        "<pre>\n",
        "       A\n",
        "      / \\\n",
        "     B   C\n",
        "     |   |\n",
        "     D   F\n",
        "     |   |\n",
        "     E---G\n",
        "</pre>\n"
      ]
    },
    {
      "cell_type": "code",
      "execution_count": 15,
      "metadata": {
        "id": "XpjR072dwxDs"
      },
      "outputs": [],
      "source": [
        "\n",
        "city_map = {\n",
        "    'A': ['B', 'C'],\n",
        "    'B': ['A', 'D'],\n",
        "    'C': ['A', 'F'],\n",
        "    'D': ['B', 'E'],\n",
        "    'E': ['D', 'G'],\n",
        "    'F': ['C', 'G']\n",
        "}"
      ]
    },
    {
      "cell_type": "markdown",
      "metadata": {
        "id": "jHAgOsZA0imN"
      },
      "source": [
        "# **`start_city` and `destination_city` variables**"
      ]
    },
    {
      "cell_type": "code",
      "execution_count": 16,
      "metadata": {
        "id": "DyQBNnUVwysv"
      },
      "outputs": [],
      "source": [
        "start_city = 'A'\n",
        "destination_city = 'F'"
      ]
    },
    {
      "cell_type": "code",
      "execution_count": null,
      "metadata": {
        "id": "k8_9TwvI0vn1"
      },
      "outputs": [],
      "source": [
        "# **Calling BFS Function**"
      ]
    },
    {
      "cell_type": "code",
      "execution_count": 17,
      "metadata": {
        "id": "McWtkflJw1oP"
      },
      "outputs": [],
      "source": [
        "shortest_path = bfs_shortest_path(city_map, start_city, destination_city)"
      ]
    },
    {
      "cell_type": "code",
      "execution_count": null,
      "metadata": {
        "id": "QtUqt7Sn05E2"
      },
      "outputs": [],
      "source": [
        "# **Printing the Results**"
      ]
    },
    {
      "cell_type": "code",
      "execution_count": 18,
      "metadata": {
        "colab": {
          "base_uri": "https://localhost:8080/"
        },
        "id": "RrJj2Z4Zw6i2",
        "outputId": "b5a212e3-fcae-43db-9404-aaa530b4eb8e"
      },
      "outputs": [
        {
          "name": "stdout",
          "output_type": "stream",
          "text": [
            "Shortest path from A to F: ['A', 'C', 'F']\n"
          ]
        }
      ],
      "source": [
        "print(f\"Shortest path from {start_city} to {destination_city}: {shortest_path}\")"
      ]
    },
    {
      "cell_type": "code",
      "execution_count": null,
      "metadata": {
        "id": "sJKUIqcE1Kk7"
      },
      "outputs": [],
      "source": []
    }
  ],
  "metadata": {
    "colab": {
      "provenance": []
    },
    "kernelspec": {
      "display_name": "Python 3",
      "name": "python3"
    },
    "language_info": {
      "name": "python"
    }
  },
  "nbformat": 4,
  "nbformat_minor": 0
}
