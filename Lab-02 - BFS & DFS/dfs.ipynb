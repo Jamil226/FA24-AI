{
  "nbformat": 4,
  "nbformat_minor": 0,
  "metadata": {
    "colab": {
      "provenance": []
    },
    "kernelspec": {
      "name": "python3",
      "display_name": "Python 3"
    },
    "language_info": {
      "name": "python"
    }
  },
  "cells": [
    {
      "cell_type": "markdown",
      "source": [
        "# **Depth-First Search (DFS)**\n",
        "\n",
        "**DFS** is a fundamental algorithm used for traversing or searching through data structures like trees and graphs. Here’s a simple breakdown of how it works:\n",
        "\n",
        "1. **Traversal Strategy**\n",
        "   - DFS explores as far as possible along each branch before backtracking. This means it goes deep into one path of the graph until it cannot go further, then it backtracks to explore other paths.\n",
        "\n",
        "2. **How It Works**\n",
        "   - **Start at a Node**: Begin the search from a specified starting node.\n",
        "   - **Mark as Visited**: Keep track of which nodes have been visited to avoid processing the same node multiple times.\n",
        "   - **Explore Neighbors**: Visit one unvisited neighbor of the current node, mark it as visited, and repeat the process.\n",
        "   - **Backtrack**: If there are no unvisited neighbors, backtrack to the previous node and continue exploring until all reachable nodes have been visited.\n",
        "\n",
        "3. **Data Structure**\n",
        "   - DFS can be implemented using stack data structure.\n",
        "\n",
        "4. **Applications**:\n",
        "   - Finding connected components in a graph\n",
        "   - Solving puzzles (e.g., mazes,etc.)\n",
        "   - Pathfinding algorithms\n",
        "\n",
        "5. **Example**:\n",
        "   - Graphical Representation\n",
        "     ```\n",
        "         A\n",
        "        / \\\n",
        "       B   C\n",
        "      / \\   \\\n",
        "     D   E   F\n",
        "     ```\n",
        "   - Starting from node `A`, the DFS traversal could visit nodes in the order: `A -> B -> D -> E -> C -> F`"
      ],
      "metadata": {
        "id": "LkMAw0lE-HJM"
      }
    },
    {
      "cell_type": "code",
      "source": [
        "graph = {\n",
        "    'A': ['B', 'C'],\n",
        "    'B': ['A', 'D', 'E'],\n",
        "    'C': ['A', 'F'],\n",
        "    'D': ['B'],\n",
        "    'E': ['B'],\n",
        "    'F': ['C']\n",
        "}"
      ],
      "metadata": {
        "id": "EhnFLsVICPIy"
      },
      "execution_count": 20,
      "outputs": []
    },
    {
      "cell_type": "code",
      "execution_count": 21,
      "metadata": {
        "id": "Iiw7fvLA9Y2T"
      },
      "outputs": [],
      "source": [
        "def dfs_implementation(graph, start, goal):\n",
        "    # Initializing an empty set called visited\n",
        "    visited = set()\n",
        "\n",
        "    # Initializing a list called stack with the starting node.\n",
        "    stack = [start]\n",
        "\n",
        "    # This line starts a while loop that continues as long as the stack is not empty.\n",
        "    while stack:\n",
        "        # This line removes and retrieves the last element added to the stack using\n",
        "        # the pop() method. The node that is popped is assigned to the variable node.\n",
        "        node = stack.pop()\n",
        "\n",
        "        # Checking if the current node has already been visited.\n",
        "        if node not in visited:\n",
        "            # If the current node is not in the visited set,\n",
        "            # this line adds the node to the visited set.\n",
        "            visited.add(node)\n",
        "            # Outputs the current node to the console\n",
        "            print(f\"Visited: {node}\")\n",
        "\n",
        "            # Check if the current node is the goal state\n",
        "            if node == goal:\n",
        "                print(f\"Goal state '{goal}' reached!\")\n",
        "                return  # Exit the function when the goal is found\n",
        "\n",
        "            # This line iterates over the neighbors of the current node.\n",
        "            for neighbor in reversed(graph[node]):\n",
        "                # This checks if the neighbor node has already been visited.\n",
        "                if neighbor not in visited:\n",
        "                    # If the neighbor has not been visited, this line adds the\n",
        "                    # neighbor to the top of the stack.\n",
        "                    stack.append(neighbor)"
      ]
    },
    {
      "cell_type": "code",
      "source": [
        "\n",
        "# Set the goal state\n",
        "start_state = 'A'\n",
        "goal_state = 'F'"
      ],
      "metadata": {
        "id": "_sH3cmQoC6lk"
      },
      "execution_count": 23,
      "outputs": []
    },
    {
      "cell_type": "code",
      "source": [
        "print(\"\\nDFS Implementation:\")\n",
        "dfs_implementation(graph, start_state, goal_state)"
      ],
      "metadata": {
        "colab": {
          "base_uri": "https://localhost:8080/"
        },
        "id": "vk29quH3_a0m",
        "outputId": "ebccc4bb-bfc7-4f49-e823-d658e7f30cd8"
      },
      "execution_count": 24,
      "outputs": [
        {
          "output_type": "stream",
          "name": "stdout",
          "text": [
            "\n",
            "DFS Implementation:\n",
            "Visited: A\n",
            "Visited: B\n",
            "Visited: D\n",
            "Visited: E\n",
            "Visited: C\n",
            "Visited: F\n",
            "Goal state 'F' reached!\n"
          ]
        }
      ]
    },
    {
      "cell_type": "code",
      "source": [],
      "metadata": {
        "id": "tljbma-2DNBO"
      },
      "execution_count": null,
      "outputs": []
    }
  ]
}