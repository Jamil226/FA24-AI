{
  "nbformat": 4,
  "nbformat_minor": 0,
  "metadata": {
    "colab": {
      "provenance": []
    },
    "kernelspec": {
      "name": "python3",
      "display_name": "Python 3"
    },
    "language_info": {
      "name": "python"
    }
  },
  "cells": [
    {
      "cell_type": "code",
      "execution_count": null,
      "metadata": {
        "id": "kBmQFqVnu2K3"
      },
      "outputs": [],
      "source": [
        "import pandas as pd\n",
        "df = pd.read_csv('input/vegetable_prices_dataset.csv')"
      ]
    },
    {
      "cell_type": "code",
      "source": [
        "print(\"First 5 rows of the dataset:\")\n",
        "print(df.head())"
      ],
      "metadata": {
        "colab": {
          "base_uri": "https://localhost:8080/"
        },
        "id": "qd3qoXlayjtf",
        "outputId": "9d7559ce-dddb-4213-9ea7-f10fbd68a404"
      },
      "execution_count": null,
      "outputs": [
        {
          "output_type": "stream",
          "name": "stdout",
          "text": [
            "First 5 rows of the dataset:\n",
            "  Vegetable  Price_per_kg  Quantity_sold\n",
            "0   Cabbage         72.20             67\n",
            "1      Peas         72.92            157\n",
            "2    Potato         85.75            227\n",
            "3   Spinach         30.14             53\n",
            "4     Onion         79.58             75\n"
          ]
        }
      ]
    },
    {
      "cell_type": "code",
      "source": [
        "print(\"\\nBasic information about the dataset:\")\n",
        "print(df.info())"
      ],
      "metadata": {
        "colab": {
          "base_uri": "https://localhost:8080/"
        },
        "id": "v6p2svktzDyT",
        "outputId": "1d023b71-a3e4-4fb6-cd43-a1099b075fc1"
      },
      "execution_count": null,
      "outputs": [
        {
          "output_type": "stream",
          "name": "stdout",
          "text": [
            "\n",
            "Basic information about the dataset:\n",
            "<class 'pandas.core.frame.DataFrame'>\n",
            "RangeIndex: 100 entries, 0 to 99\n",
            "Data columns (total 3 columns):\n",
            " #   Column         Non-Null Count  Dtype  \n",
            "---  ------         --------------  -----  \n",
            " 0   Vegetable      100 non-null    object \n",
            " 1   Price_per_kg   100 non-null    float64\n",
            " 2   Quantity_sold  100 non-null    int64  \n",
            "dtypes: float64(1), int64(1), object(1)\n",
            "memory usage: 2.5+ KB\n",
            "None\n"
          ]
        }
      ]
    },
    {
      "cell_type": "code",
      "source": [
        "print(\"\\nSummary statistics for numerical columns:\")\n",
        "print(df.describe())"
      ],
      "metadata": {
        "colab": {
          "base_uri": "https://localhost:8080/"
        },
        "id": "4RTv41k-zaAU",
        "outputId": "f59b1184-0815-41bb-fde2-5ef8d6c84e53"
      },
      "execution_count": null,
      "outputs": [
        {
          "output_type": "stream",
          "name": "stdout",
          "text": [
            "\n",
            "Summary statistics for numerical columns:\n",
            "       Price_per_kg  Quantity_sold\n",
            "count    100.000000     100.000000\n",
            "mean      59.241000     170.930000\n",
            "std       23.555335      71.800967\n",
            "min       20.510000      52.000000\n",
            "25%       37.972500     121.500000\n",
            "50%       57.840000     177.000000\n",
            "75%       78.905000     229.000000\n",
            "max       99.780000     298.000000\n"
          ]
        }
      ]
    },
    {
      "cell_type": "code",
      "source": [
        "print(\"\\nMissing values in the dataset:\")\n",
        "print(df.isnull().sum())"
      ],
      "metadata": {
        "colab": {
          "base_uri": "https://localhost:8080/"
        },
        "id": "tfruyF3hzmap",
        "outputId": "5023d5c3-dbdd-4dec-80f9-1e12e4e705ad"
      },
      "execution_count": null,
      "outputs": [
        {
          "output_type": "stream",
          "name": "stdout",
          "text": [
            "\n",
            "Missing values in the dataset:\n",
            "Vegetable        0\n",
            "Price_per_kg     0\n",
            "Quantity_sold    0\n",
            "dtype: int64\n"
          ]
        }
      ]
    },
    {
      "cell_type": "code",
      "source": [
        "print(\"\\nNumber of unique vegetables:\")\n",
        "print(df['Vegetable'].nunique())"
      ],
      "metadata": {
        "colab": {
          "base_uri": "https://localhost:8080/"
        },
        "id": "psRgvO30z8ds",
        "outputId": "d551e2a5-0ca3-4229-fdbf-7e907da411b3"
      },
      "execution_count": null,
      "outputs": [
        {
          "output_type": "stream",
          "name": "stdout",
          "text": [
            "\n",
            "Number of unique vegetables:\n",
            "10\n"
          ]
        }
      ]
    },
    {
      "cell_type": "code",
      "source": [
        "print(\"\\nVegetable counts:\")\n",
        "print(df['Vegetable'].value_counts())\n"
      ],
      "metadata": {
        "colab": {
          "base_uri": "https://localhost:8080/"
        },
        "id": "HrZowGOT0Nx7",
        "outputId": "0915311c-849d-4c8d-9a61-ae62d8abd543"
      },
      "execution_count": null,
      "outputs": [
        {
          "output_type": "stream",
          "name": "stdout",
          "text": [
            "\n",
            "Vegetable counts:\n",
            "Vegetable\n",
            "Onion       18\n",
            "Carrot      14\n",
            "Tomato      12\n",
            "Lettuce     11\n",
            "Broccoli    11\n",
            "Peas         9\n",
            "Potato       7\n",
            "Cabbage      6\n",
            "Spinach      6\n",
            "Capsicum     6\n",
            "Name: count, dtype: int64\n"
          ]
        }
      ]
    },
    {
      "cell_type": "code",
      "source": [
        "print(\"\\nTop 5 most expensive vegetable records:\")\n",
        "print(df.sort_values(by='Price_per_kg', ascending=False).head())\n"
      ],
      "metadata": {
        "colab": {
          "base_uri": "https://localhost:8080/"
        },
        "id": "k8LYJaX40VOE",
        "outputId": "6e055fa0-ee7c-478b-cd59-6494eb828179"
      },
      "execution_count": null,
      "outputs": [
        {
          "output_type": "stream",
          "name": "stdout",
          "text": [
            "\n",
            "Top 5 most expensive vegetable records:\n",
            "   Vegetable  Price_per_kg  Quantity_sold\n",
            "70   Cabbage         99.78            262\n",
            "57    Carrot         98.60             56\n",
            "88     Onion         98.04            241\n",
            "61    Potato         97.72            142\n",
            "14    Tomato         97.41            293\n"
          ]
        }
      ]
    },
    {
      "cell_type": "code",
      "source": [
        "print(\"\\nVegetables with price per kg greater than 80:\")\n",
        "expensive_vegetables = df[df['Price_per_kg'] > 80]\n",
        "print(expensive_vegetables)"
      ],
      "metadata": {
        "colab": {
          "base_uri": "https://localhost:8080/"
        },
        "id": "ag9tvEal0kk_",
        "outputId": "c036d32f-5095-4b08-b864-0b335b1c8b7a"
      },
      "execution_count": null,
      "outputs": [
        {
          "output_type": "stream",
          "name": "stdout",
          "text": [
            "\n",
            "Vegetables with price per kg greater than 80:\n",
            "   Vegetable  Price_per_kg  Quantity_sold\n",
            "2     Potato         85.75            227\n",
            "5     Carrot         90.08            159\n",
            "14    Tomato         97.41            293\n",
            "15    Carrot         95.94            128\n",
            "18  Capsicum         89.92            251\n",
            "19     Onion         87.85            276\n",
            "20    Carrot         82.59            285\n",
            "22     Onion         94.41            278\n",
            "25    Tomato         91.94            177\n",
            "28   Spinach         93.01            298\n",
            "56   Cabbage         94.94            227\n",
            "57    Carrot         98.60             56\n",
            "58   Lettuce         89.52            243\n",
            "61    Potato         97.72            142\n",
            "62      Peas         95.54            184\n",
            "66   Spinach         82.23            184\n",
            "70   Cabbage         99.78            262\n",
            "75   Lettuce         84.88             52\n",
            "87      Peas         86.52            214\n",
            "88     Onion         98.04            241\n",
            "93    Carrot         83.56             60\n",
            "97    Tomato         95.20            257\n"
          ]
        }
      ]
    },
    {
      "cell_type": "code",
      "source": [
        "print(\"\\nAverage price per kg for each vegetable:\")\n",
        "avg_price_per_vegetable = df.groupby('Vegetable')['Price_per_kg'].mean()\n",
        "print(avg_price_per_vegetable)\n"
      ],
      "metadata": {
        "colab": {
          "base_uri": "https://localhost:8080/"
        },
        "id": "K8rlK3oh00IW",
        "outputId": "63f9efc8-7fa9-4e4c-c732-35f98114d5eb"
      },
      "execution_count": null,
      "outputs": [
        {
          "output_type": "stream",
          "name": "stdout",
          "text": [
            "\n",
            "Average price per kg for each vegetable:\n",
            "Vegetable\n",
            "Broccoli    43.800000\n",
            "Cabbage     72.053333\n",
            "Capsicum    49.428333\n",
            "Carrot      60.231429\n",
            "Lettuce     68.483636\n",
            "Onion       61.905000\n",
            "Peas        58.326667\n",
            "Potato      54.922857\n",
            "Spinach     57.791667\n",
            "Tomato      62.200833\n",
            "Name: Price_per_kg, dtype: float64\n"
          ]
        }
      ]
    },
    {
      "cell_type": "code",
      "source": [
        "import matplotlib.pyplot as plt"
      ],
      "metadata": {
        "id": "zIax9NDT1Bd8"
      },
      "execution_count": null,
      "outputs": []
    },
    {
      "cell_type": "code",
      "source": [
        "avg_price_per_vegetable.plot(kind='bar', title='Average Price per kg of Vegetables')\n",
        "plt.ylabel('Price (Rs)')\n",
        "plt.xlabel('Vegetable')\n",
        "plt.show()\n"
      ],
      "metadata": {
        "colab": {
          "base_uri": "https://localhost:8080/",
          "height": 526
        },
        "id": "Q2POojqH1IzQ",
        "outputId": "226a0f7c-67cd-4353-da5d-cdb006797a83"
      },
      "execution_count": null,
      "outputs": [
        {
          "output_type": "display_data",
          "data": {
            "text/plain": [
              "<Figure size 640x480 with 1 Axes>"
            ],
            "image/png": "[encoded data removed]"
          },
          "metadata": {}
        }
      ]
    },
    {
      "cell_type": "code",
      "source": [],
      "metadata": {
        "id": "z5F0BV0I1MRS"
      },
      "execution_count": null,
      "outputs": []
    }
  ]
}